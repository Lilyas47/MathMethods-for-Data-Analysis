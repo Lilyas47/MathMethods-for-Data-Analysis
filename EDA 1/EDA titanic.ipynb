{
 "cells": [
  {
   "cell_type": "markdown",
   "metadata": {},
   "source": [
    "# HSE 2024: Mathematical Methods for Data Analysis\n",
    "\n",
    "## Homework 1"
   ]
  },
  {
   "cell_type": "markdown",
   "metadata": {},
   "source": [
    "### Attention!\n",
    "* For tasks where <ins>text answer</ins> is required **Russian language** is **allowed**.\n",
    "* If a task asks you to describe something (make coclusions) then **text answer** is **mandatory** and **is** part of the task\n",
    "* **Do not** upload the dataset (titanic.csv) to the grading system (we already have it)\n",
    "* We **only** accept **ipynb** notebooks. If you use Google Colab then you'll have to download the notebook before passing the homework\n",
    "* **Do not** use python loops instead of NumPy vector operations over NumPy vectors - it significantly decreases performance (see why https://blog.paperspace.com/numpy-optimization-vectorization-and-broadcasting/), will be punished with -0.25 for **every** task. \n",
    "Loops are only allowed in part 1 (Tasks 1 - 4). \n",
    "* Some tasks contain tests. They only test you solution on a simple example, thus, passing the test does **not** guarantee you the full grade for the task. "
   ]
  },
  {
   "cell_type": "code",
   "execution_count": 1,
   "metadata": {},
   "outputs": [],
   "source": [
    "%matplotlib inline\n",
    "import numpy as np\n",
    "import pandas as pd\n",
    "import matplotlib.pyplot as plt\n",
    "import seaborn as sns"
   ]
  },
  {
   "cell_type": "markdown",
   "metadata": {},
   "source": [
    "# 1. Python (2 points) "
   ]
  },
  {
   "cell_type": "markdown",
   "metadata": {},
   "source": [
    "**Task 1** (0.5 points)<br/> \n",
    "Enter nonzero numbers `a`,  `r` and `N`. Find the first `N` members of geometric progression with the first member `a` and factor `r`, without using formula for the product."
   ]
  },
  {
   "cell_type": "code",
   "execution_count": 16,
   "metadata": {},
   "outputs": [
    {
     "name": "stdout",
     "output_type": "stream",
     "text": [
      "216\n"
     ]
    }
   ],
   "source": [
    "def find_product(a,r,N):\n",
    "    ## Your code here\n",
    "    arr_product = 1  # Инициализируем произведение как 1\n",
    "    current_term = a  # Первый член прогрессии\n",
    "    \n",
    "    for i in range(N):\n",
    "        arr_product *= current_term  # Умножаем произведение на текущий член\n",
    "        current_term *= r  # Переходим к следующему члену прогрессии\n",
    "        \n",
    "    return arr_product\n",
    "\n",
    "a = 2\n",
    "r = 3\n",
    "N = 3\n",
    "print(find_product(a,r,N))"
   ]
  },
  {
   "cell_type": "markdown",
   "metadata": {},
   "source": [
    "**Task 2** (0.5 points) <br/> \n",
    "Enter an integer number `N`. Check if it is a palindrome number. It means that it can be read equally from left to right and from right to back. "
   ]
  },
  {
   "cell_type": "code",
   "execution_count": 13,
   "metadata": {},
   "outputs": [
    {
     "name": "stdout",
     "output_type": "stream",
     "text": [
      "3 True\n",
      "81 False\n",
      "111 True\n",
      "113 False\n",
      "810 False\n",
      "2022 False\n",
      "4774 True\n",
      "51315 True\n",
      "611816 False\n"
     ]
    }
   ],
   "source": [
    "def check_palindrome(N):\n",
    "    if str(N) == str(N)[::-1]:\n",
    "        return True\n",
    "    return False\n",
    "\n",
    "for N in [3, 81, 111, 113, 810, 2022, 4774, 51315, 611816]:\n",
    "    print(N, check_palindrome(N))"
   ]
  },
  {
   "cell_type": "markdown",
   "metadata": {},
   "source": [
    "**Task 3** (0.5 points) <br/> \n",
    "Find the first `N` palindrome numbers starting from 1000 (you may use the function from the precious task)."
   ]
  },
  {
   "cell_type": "code",
   "execution_count": 14,
   "metadata": {},
   "outputs": [
    {
     "name": "stdout",
     "output_type": "stream",
     "text": [
      "[1001]\n",
      "[1001]\n",
      "[1001]\n"
     ]
    }
   ],
   "source": [
    "def find_palindromes(N):\n",
    "    palindromes = []\n",
    "    for i in range(N):\n",
    "        if check_palindrome(1000 + i):\n",
    "            palindromes.append(1000 + i)\n",
    "    return palindromes\n",
    "\n",
    "print(find_palindromes(5))\n",
    "print(find_palindromes(10))\n",
    "print(find_palindromes(20))"
   ]
  },
  {
   "cell_type": "markdown",
   "metadata": {},
   "source": [
    "**Task 4** (0.5 points) <br/> \n",
    "There are numbers: `a`, `b`, `c`. Without using functions `min`, `max` and other functions, find the minimum number."
   ]
  },
  {
   "cell_type": "code",
   "execution_count": 15,
   "metadata": {},
   "outputs": [
    {
     "name": "stdout",
     "output_type": "stream",
     "text": [
      "-24 -46 74 \tMinimum: -46\n",
      "58 -95 10 \tMinimum: -95\n",
      "-66 -21 -3 \tMinimum: -66\n",
      "37 -32 97 \tMinimum: -32\n",
      "34 -10 -54 \tMinimum: -54\n",
      "12 -85 17 \tMinimum: -85\n",
      "-11 21 -63 \tMinimum: -63\n",
      "-1 32 -11 \tMinimum: -11\n",
      "82 6 47 \tMinimum: 6\n",
      "-28 -6 23 \tMinimum: -28\n"
     ]
    }
   ],
   "source": [
    "from random import randint\n",
    "def find_min(a, b, c):\n",
    "    ## Your code here\n",
    "    if a <= b and a <= c:\n",
    "        return a\n",
    "    elif b <= a and b <= c:\n",
    "        return b\n",
    "    return c\n",
    "\n",
    "for i in range(10):\n",
    "    \n",
    "    a = randint(-100, 100)\n",
    "    b = randint(-100, 100)\n",
    "    c = randint(-100, 100)\n",
    "    \n",
    "    print(a, b, c, '\\tMinimum:', find_min(a, b, c))"
   ]
  },
  {
   "cell_type": "markdown",
   "metadata": {},
   "source": [
    "# 2. Numpy (4 points)"
   ]
  },
  {
   "cell_type": "markdown",
   "metadata": {},
   "source": [
    "**Task 1** (0.5 points) <br/>\n",
    "Create a random array (`np.random.rand()`) with length of 17 and with sum of its elements equals to 6."
   ]
  },
  {
   "cell_type": "code",
   "execution_count": 19,
   "metadata": {},
   "outputs": [
    {
     "name": "stdout",
     "output_type": "stream",
     "text": [
      "Length: 17\n",
      "Sum of elements: 6.0\n"
     ]
    }
   ],
   "source": [
    "my_array = np.random.rand(17)\n",
    "my_array = my_array / np.sum(my_array) * 6\n",
    "print(f'Length: {len(my_array)}')\n",
    "print(f'Sum of elements: {np.sum(my_array)}')"
   ]
  },
  {
   "cell_type": "markdown",
   "metadata": {},
   "source": [
    "**Task 2** (0.5 points) <br/>\n",
    "Create two random arrays $a$ and $b$ with the same length. \n",
    "\n",
    "Calculate the following distances between the arrays **without using special funcrion. You may only use basic numpy operations (`np.linalg.*` and other high-level ones are prohibited).**:\n",
    "\n",
    "* Manhattan Distance\n",
    "$$ d(a, b) = \\sum_i |a_i - b_i| $$\n",
    "* Euclidean Distance\n",
    "$$ d(a, b) = \\sqrt{\\sum_i (a_i - b_i)^2} $$\n",
    "* Chebyshev Distance\n",
    "$$ d(a, b) = \\underset{i}{max} |a_i - b_i| $$\n",
    "* Cosine Distance\n",
    "$$ d(a, b) = 1 - \\frac{a^\\top b}{||a||_2\\cdot||b||_2} $$\n"
   ]
  },
  {
   "cell_type": "code",
   "execution_count": 11,
   "metadata": {},
   "outputs": [],
   "source": [
    "def calculate_manhattan(a, b):    \n",
    "    ## Your code here\n",
    "    distance = np.sum(np.abs(a - b))\n",
    "    return distance\n",
    "\n",
    "def calculate_euclidean(a, b):    \n",
    "    ## Your code here\n",
    "    distance = np.sqrt(np.sum((a - b) ** 2))\n",
    "    return distance\n",
    "\n",
    "def calculate_chebyshev(a, b):    \n",
    "    ## Your code here\n",
    "    distance = np.max(np.abs(a - b))\n",
    "    return distance\n",
    "\n",
    "def calculate_cosine(a, b):    \n",
    "    ## Your code here\n",
    "    # Calculate the dot product between a and b\n",
    "    dot_product = np.dot(a, b)\n",
    "    # Calculate the L2 norms (magnitudes) of a and b\n",
    "    norm_a = np.sqrt(np.sum(a ** 2))\n",
    "    norm_b = np.sqrt(np.sum(b ** 2))\n",
    "    # Calculate the cosine similarity\n",
    "    cosine_similarity = dot_product / (norm_a * norm_b)\n",
    "    # Cosine distance is 1 - cosine similarity\n",
    "    distance = 1 - cosine_similarity\n",
    "    return distance"
   ]
  },
  {
   "cell_type": "code",
   "execution_count": 14,
   "metadata": {},
   "outputs": [
    {
     "name": "stdout",
     "output_type": "stream",
     "text": [
      "Manhattan distance: 1.9881736278031656\n",
      "Euclidean distance: 0.9322015301009052\n",
      "Chebyshev distance: 0.5816796503174831\n",
      "Cosine distance: 0.17521185425501462\n"
     ]
    }
   ],
   "source": [
    "a = np.random.rand(6)  # Example array\n",
    "b = np.random.rand(6)  # Another example array\n",
    "print(f'Manhattan distance: {calculate_manhattan(a, b)}')\n",
    "print(f'Euclidean distance: {calculate_euclidean(a, b)}')\n",
    "print(f'Chebyshev distance: {calculate_chebyshev(a, b)}')\n",
    "print(f'Cosine distance: {calculate_cosine(a, b)}')"
   ]
  },
  {
   "cell_type": "markdown",
   "metadata": {},
   "source": [
    "**Task 3** (0.5 points) <br/>\n",
    "Create a random array (`np.random.randint()`) with length of 76. Transform the array so that \n",
    "* Maximum element(s) value is -1\n",
    "* Minimum element(s) value is -4\n",
    "* Other values are in interval (-4; -1) with keeping the order"
   ]
  },
  {
   "cell_type": "code",
   "execution_count": 20,
   "metadata": {},
   "outputs": [],
   "source": [
    "def transform(array):\n",
    "    ## Your code here\n",
    "    transformed_array = -4 + (array - np.min(array)) * 3 / (np.max(array) - np.min(array))\n",
    "    \n",
    "    # Устанавливаем максимальное значение в -1\n",
    "    transformed_array[np.argmax(transformed_array)] = -1\n",
    "    # Устанавливаем минимальное значение в -4\n",
    "    transformed_array[np.argmin(transformed_array)] = -4\n",
    "    return transformed_array"
   ]
  },
  {
   "cell_type": "code",
   "execution_count": 23,
   "metadata": {},
   "outputs": [
    {
     "name": "stdout",
     "output_type": "stream",
     "text": [
      "Min: -4.0\n",
      "Max: -1.0\n",
      "Array:\n",
      "[-1.12371134 -2.48453608 -2.48453608 -1.55670103 -1.71134021 -3.65979381\n",
      " -1.55670103 -2.48453608 -3.31958763 -1.15463918 -3.75257732 -1.95876289\n",
      " -1.86597938 -2.97938144 -1.58762887 -3.41237113 -3.69072165 -1.15463918\n",
      " -1.5257732  -1.71134021 -4.         -2.2371134  -3.59793814 -1.95876289\n",
      " -1.83505155 -2.17525773 -3.65979381 -3.93814433 -2.11340206 -2.48453608\n",
      " -1.         -2.8556701  -1.40206186 -1.5257732  -3.3814433  -1.80412371\n",
      " -3.69072165 -3.96907216 -1.09278351 -1.06185567 -3.04123711 -2.17525773\n",
      " -1.55670103 -1.         -1.83505155 -1.         -2.8556701  -2.97938144\n",
      " -1.         -3.28865979 -3.69072165 -2.42268041 -1.98969072 -2.57731959\n",
      " -3.22680412 -3.78350515 -1.68041237 -3.4742268  -3.93814433 -1.09278351\n",
      " -2.73195876 -3.4742268  -1.         -1.03092784 -3.44329897 -2.17525773\n",
      " -1.         -3.53608247 -2.91752577 -1.06185567 -2.48453608 -3.28865979\n",
      " -3.87628866 -1.64948454 -3.53608247 -1.5257732 ]\n"
     ]
    }
   ],
   "source": [
    "my_array = random_array = np.random.randint(0, 100, size=76) \n",
    "my_array = transform(my_array)\n",
    "print(f'Min: {np.min(my_array)}')\n",
    "print(f'Max: {np.max(my_array)}')\n",
    "print('Array:')\n",
    "print(my_array)"
   ]
  },
  {
   "cell_type": "markdown",
   "metadata": {},
   "source": [
    "**Task 4** (0.5 points) <br/>\n",
    "Create an array with shape of $8 \\times 5$ with integers from [-7, 43]. Print a column that contains the maximum element of the array."
   ]
  },
  {
   "cell_type": "code",
   "execution_count": 24,
   "metadata": {},
   "outputs": [
    {
     "name": "stdout",
     "output_type": "stream",
     "text": [
      "Shape:  (8, 5)\n",
      "Array:\n",
      "[[31 11 -5 -3 16]\n",
      " [ 7 12 -5 32 18]\n",
      " [ 5 17 22 -4 15]\n",
      " [-5 36 43 25 41]\n",
      " [ 0 15 15 -6  6]\n",
      " [39 -1 18 10  6]\n",
      " [43  7 25 20 25]\n",
      " [36 26  1 -7 15]]\n",
      "Selected column: [-5 -5 22 43 15 18 25  1]\n"
     ]
    }
   ],
   "source": [
    "# Создаем массив формы 8x5 с числами в диапазоне от -7 до 43\n",
    "my_array = np.random.randint(-7, 44, size=(8, 5))\n",
    "# Находим индекс столбца, в котором содержится максимальный элемент массива\n",
    "max_index = np.unravel_index(np.argmax(my_array), my_array.shape)[1]\n",
    "\n",
    "# Выбираем столбец с максимальным элементом\n",
    "selected_column = my_array[:, max_index]\n",
    "\n",
    "print('Shape: ', my_array.shape)\n",
    "print('Array:')\n",
    "print(my_array)\n",
    "print(f'Selected column: {selected_column}')"
   ]
  },
  {
   "cell_type": "markdown",
   "metadata": {},
   "source": [
    "**Task 5** (0.5 points) <br/>\n",
    "\n",
    "Replace all missing values in the following array with median."
   ]
  },
  {
   "cell_type": "code",
   "execution_count": 8,
   "metadata": {},
   "outputs": [
    {
     "name": "stdout",
     "output_type": "stream",
     "text": [
      "Array:\n",
      "[       nan        nan 0.46967659 0.8816714  0.59517083 0.71413687\n",
      " 0.47195458        nan 0.25396438 0.78404944]\n"
     ]
    }
   ],
   "source": [
    "arr = np.random.rand(10)\n",
    "idx = np.random.randint(0, 10, 4)\n",
    "arr[idx] = np.nan\n",
    "\n",
    "print('Array:')\n",
    "print(arr)"
   ]
  },
  {
   "cell_type": "code",
   "execution_count": 9,
   "metadata": {},
   "outputs": [],
   "source": [
    "def replace_missing(arr):\n",
    "    ## Your code here\n",
    "    median = np.nanmedian(arr)\n",
    "    # Заменяем все пропущенные значения на медиану\n",
    "    array_without_missing = np.where(np.isnan(arr), median, arr)\n",
    "    return array_without_missing"
   ]
  },
  {
   "cell_type": "code",
   "execution_count": 10,
   "metadata": {},
   "outputs": [
    {
     "name": "stdout",
     "output_type": "stream",
     "text": [
      "Array with no missing values:\n",
      "[0.59517083 0.59517083 0.46967659 0.8816714  0.59517083 0.71413687\n",
      " 0.47195458 0.59517083 0.25396438 0.78404944]\n"
     ]
    }
   ],
   "source": [
    "arr = replace_missing(arr)\n",
    "print('Array with no missing values:')\n",
    "print(arr)"
   ]
  },
  {
   "cell_type": "markdown",
   "metadata": {},
   "source": [
    "**Task 6** (0.5 points) <br/>\n",
    "Create a function which takes an image ```X``` (3D array of the shape (n, m, 3)) as an input and returns the mean for all 3 channels (a vector of shape 3)."
   ]
  },
  {
   "cell_type": "code",
   "execution_count": 11,
   "metadata": {},
   "outputs": [],
   "source": [
    "def mean_channel(X):\n",
    "    mean_vector = np.mean(X, axis=(0, 1))\n",
    "    return mean_vector"
   ]
  },
  {
   "cell_type": "code",
   "execution_count": 12,
   "metadata": {},
   "outputs": [
    {
     "name": "stdout",
     "output_type": "stream",
     "text": [
      "Vector of means: [-1.33409611 -1.85125858 -2.23569794]\n"
     ]
    }
   ],
   "source": [
    "n = 19\n",
    "m = 23\n",
    "X =  np.random.randint(-11, 8, size=(n, m, 3))\n",
    "print(f'Vector of means: {mean_channel(X)}')"
   ]
  },
  {
   "cell_type": "markdown",
   "metadata": {},
   "source": [
    "### **Task 7** (1 points) <br/>\n",
    "Create a function which takes a 3D matrix ```X``` as an input and returns all its unique vertical (first axis) layers.\n",
    "\n",
    "Sample input:\n",
    "\n",
    "     ([[[1, 2, 3],\n",
    "        [1, 2, 3],\n",
    "        [1, 2, 3]],\n",
    "\n",
    "       [[4, 5, 6],\n",
    "        [4, 5, 7]\n",
    "        [4, 5, 6]],\n",
    "\n",
    "       [[7, 8, 9],\n",
    "        [7, 8, 9]\n",
    "        [7, 8, 9]]])\n",
    "        \n",
    "Sample output:\n",
    "\n",
    "     ([[[1, 2, 3],\n",
    "        [1, 2, 3]],\n",
    "\n",
    "       [[4, 5, 6],\n",
    "        [4, 5, 7]],\n",
    "\n",
    "       [[7, 8, 9],\n",
    "        [7, 8, 9]]])"
   ]
  },
  {
   "cell_type": "code",
   "execution_count": 15,
   "metadata": {},
   "outputs": [],
   "source": [
    "def get_unique_columns(X):\n",
    "    return np.unique(X, axis=0)"
   ]
  },
  {
   "cell_type": "code",
   "execution_count": 16,
   "metadata": {},
   "outputs": [
    {
     "name": "stdout",
     "output_type": "stream",
     "text": [
      "Matrix:\n",
      "[[[5 5 4]\n",
      "  [5 5 5]\n",
      "  [4 4 4]]\n",
      "\n",
      " [[5 5 5]\n",
      "  [5 5 5]\n",
      "  [5 4 5]]\n",
      "\n",
      " [[4 5 5]\n",
      "  [4 5 4]\n",
      "  [5 5 5]]\n",
      "\n",
      " [[5 4 5]\n",
      "  [5 5 5]\n",
      "  [4 5 5]]\n",
      "\n",
      " [[4 4 5]\n",
      "  [4 5 5]\n",
      "  [4 4 4]]\n",
      "\n",
      " [[4 4 4]\n",
      "  [4 4 4]\n",
      "  [4 4 4]]\n",
      "\n",
      " [[5 4 5]\n",
      "  [4 4 4]\n",
      "  [5 4 4]]\n",
      "\n",
      " [[5 5 4]\n",
      "  [4 5 5]\n",
      "  [5 4 4]]\n",
      "\n",
      " [[4 4 5]\n",
      "  [4 5 4]\n",
      "  [5 4 4]]\n",
      "\n",
      " [[4 5 4]\n",
      "  [4 4 5]\n",
      "  [4 4 4]]\n",
      "\n",
      " [[4 5 5]\n",
      "  [4 4 5]\n",
      "  [5 5 4]]\n",
      "\n",
      " [[4 4 4]\n",
      "  [5 5 5]\n",
      "  [5 4 5]]\n",
      "\n",
      " [[5 4 4]\n",
      "  [4 4 4]\n",
      "  [4 5 5]]\n",
      "\n",
      " [[5 5 4]\n",
      "  [5 5 4]\n",
      "  [5 4 4]]\n",
      "\n",
      " [[4 4 5]\n",
      "  [4 5 5]\n",
      "  [4 4 5]]\n",
      "\n",
      " [[5 4 5]\n",
      "  [5 4 4]\n",
      "  [4 4 4]]\n",
      "\n",
      " [[4 4 4]\n",
      "  [4 5 5]\n",
      "  [4 5 5]]\n",
      "\n",
      " [[4 5 4]\n",
      "  [4 5 5]\n",
      "  [4 4 5]]\n",
      "\n",
      " [[4 5 5]\n",
      "  [4 4 4]\n",
      "  [5 4 5]]]\n",
      "Unique columns:\n"
     ]
    },
    {
     "data": {
      "text/plain": [
       "array([[[4, 4, 4],\n",
       "        [4, 4, 4],\n",
       "        [4, 4, 4]],\n",
       "\n",
       "       [[4, 4, 4],\n",
       "        [4, 5, 5],\n",
       "        [4, 5, 5]],\n",
       "\n",
       "       [[4, 4, 4],\n",
       "        [5, 5, 5],\n",
       "        [5, 4, 5]],\n",
       "\n",
       "       [[4, 4, 5],\n",
       "        [4, 5, 4],\n",
       "        [5, 4, 4]],\n",
       "\n",
       "       [[4, 4, 5],\n",
       "        [4, 5, 5],\n",
       "        [4, 4, 4]],\n",
       "\n",
       "       [[4, 4, 5],\n",
       "        [4, 5, 5],\n",
       "        [4, 4, 5]],\n",
       "\n",
       "       [[4, 5, 4],\n",
       "        [4, 4, 5],\n",
       "        [4, 4, 4]],\n",
       "\n",
       "       [[4, 5, 4],\n",
       "        [4, 5, 5],\n",
       "        [4, 4, 5]],\n",
       "\n",
       "       [[4, 5, 5],\n",
       "        [4, 4, 4],\n",
       "        [5, 4, 5]],\n",
       "\n",
       "       [[4, 5, 5],\n",
       "        [4, 4, 5],\n",
       "        [5, 5, 4]],\n",
       "\n",
       "       [[4, 5, 5],\n",
       "        [4, 5, 4],\n",
       "        [5, 5, 5]],\n",
       "\n",
       "       [[5, 4, 4],\n",
       "        [4, 4, 4],\n",
       "        [4, 5, 5]],\n",
       "\n",
       "       [[5, 4, 5],\n",
       "        [4, 4, 4],\n",
       "        [5, 4, 4]],\n",
       "\n",
       "       [[5, 4, 5],\n",
       "        [5, 4, 4],\n",
       "        [4, 4, 4]],\n",
       "\n",
       "       [[5, 4, 5],\n",
       "        [5, 5, 5],\n",
       "        [4, 5, 5]],\n",
       "\n",
       "       [[5, 5, 4],\n",
       "        [4, 5, 5],\n",
       "        [5, 4, 4]],\n",
       "\n",
       "       [[5, 5, 4],\n",
       "        [5, 5, 4],\n",
       "        [5, 4, 4]],\n",
       "\n",
       "       [[5, 5, 4],\n",
       "        [5, 5, 5],\n",
       "        [4, 4, 4]],\n",
       "\n",
       "       [[5, 5, 5],\n",
       "        [5, 5, 5],\n",
       "        [5, 4, 5]]])"
      ]
     },
     "execution_count": 16,
     "metadata": {},
     "output_type": "execute_result"
    }
   ],
   "source": [
    "X =  np.random.randint(4, 6, size=(n, 3, 3))\n",
    "print('Matrix:')\n",
    "print(X)\n",
    "print('Unique columns:')\n",
    "get_unique_columns(X)"
   ]
  },
  {
   "cell_type": "markdown",
   "metadata": {},
   "source": [
    "# 3. Pandas & Visualization (4 points)\n"
   ]
  },
  {
   "cell_type": "markdown",
   "metadata": {},
   "source": [
    "You are going to work with *Titanic* dataset which contains information about passengers of Titanic:\n",
    "- **Survived** - 1 - survived, 0 - died (0); **Target variable**\n",
    "- **pclass** - passengers's class;\n",
    "- **sex** - passengers's sex\n",
    "- **Age** - passengers's age in years\n",
    "- **sibsp**    - is the passenger someones siblings   \n",
    "- **parch**    - is the passenger someones child or parent\n",
    "- **ticket** - ticket number    \n",
    "- **fare** - ticket price    \n",
    "- **cabin** - cabin number\n",
    "- **embarked** - port of Embarkation; C = Cherbourg, Q = Queenstown, S = Southampton\n",
    "\n",
    "**Note** for all visualizations use matplotlib or seaborn but NOT plotly! Plotly's graphics sometimes vanish after saving. In this case the task wont't be graded.\n",
    "\n",
    "**Note** support all your answers with necessary code, computations, vizualization, and explanation. Answers without code and explanation won't be graded.\n",
    "\n",
    "**Task 0** (0 points) \\\n",
    "Load the dataset and print first 5 rows"
   ]
  },
  {
   "cell_type": "code",
   "execution_count": 17,
   "metadata": {},
   "outputs": [
    {
     "data": {
      "text/html": [
       "<div>\n",
       "<style scoped>\n",
       "    .dataframe tbody tr th:only-of-type {\n",
       "        vertical-align: middle;\n",
       "    }\n",
       "\n",
       "    .dataframe tbody tr th {\n",
       "        vertical-align: top;\n",
       "    }\n",
       "\n",
       "    .dataframe thead th {\n",
       "        text-align: right;\n",
       "    }\n",
       "</style>\n",
       "<table border=\"1\" class=\"dataframe\">\n",
       "  <thead>\n",
       "    <tr style=\"text-align: right;\">\n",
       "      <th></th>\n",
       "      <th>PassengerId</th>\n",
       "      <th>Survived</th>\n",
       "      <th>Pclass</th>\n",
       "      <th>Name</th>\n",
       "      <th>Sex</th>\n",
       "      <th>Age</th>\n",
       "      <th>SibSp</th>\n",
       "      <th>Parch</th>\n",
       "      <th>Ticket</th>\n",
       "      <th>Fare</th>\n",
       "      <th>Cabin</th>\n",
       "      <th>Embarked</th>\n",
       "    </tr>\n",
       "  </thead>\n",
       "  <tbody>\n",
       "    <tr>\n",
       "      <th>0</th>\n",
       "      <td>1</td>\n",
       "      <td>0</td>\n",
       "      <td>3</td>\n",
       "      <td>Braund, Mr. Owen Harris</td>\n",
       "      <td>male</td>\n",
       "      <td>22.0</td>\n",
       "      <td>1</td>\n",
       "      <td>0</td>\n",
       "      <td>A/5 21171</td>\n",
       "      <td>7.2500</td>\n",
       "      <td>NaN</td>\n",
       "      <td>S</td>\n",
       "    </tr>\n",
       "    <tr>\n",
       "      <th>1</th>\n",
       "      <td>2</td>\n",
       "      <td>1</td>\n",
       "      <td>1</td>\n",
       "      <td>Cumings, Mrs. John Bradley (Florence Briggs Th...</td>\n",
       "      <td>female</td>\n",
       "      <td>38.0</td>\n",
       "      <td>1</td>\n",
       "      <td>0</td>\n",
       "      <td>PC 17599</td>\n",
       "      <td>71.2833</td>\n",
       "      <td>C85</td>\n",
       "      <td>C</td>\n",
       "    </tr>\n",
       "    <tr>\n",
       "      <th>2</th>\n",
       "      <td>3</td>\n",
       "      <td>1</td>\n",
       "      <td>3</td>\n",
       "      <td>Heikkinen, Miss. Laina</td>\n",
       "      <td>female</td>\n",
       "      <td>26.0</td>\n",
       "      <td>0</td>\n",
       "      <td>0</td>\n",
       "      <td>STON/O2. 3101282</td>\n",
       "      <td>7.9250</td>\n",
       "      <td>NaN</td>\n",
       "      <td>S</td>\n",
       "    </tr>\n",
       "    <tr>\n",
       "      <th>3</th>\n",
       "      <td>4</td>\n",
       "      <td>1</td>\n",
       "      <td>1</td>\n",
       "      <td>Futrelle, Mrs. Jacques Heath (Lily May Peel)</td>\n",
       "      <td>female</td>\n",
       "      <td>35.0</td>\n",
       "      <td>1</td>\n",
       "      <td>0</td>\n",
       "      <td>113803</td>\n",
       "      <td>53.1000</td>\n",
       "      <td>C123</td>\n",
       "      <td>S</td>\n",
       "    </tr>\n",
       "    <tr>\n",
       "      <th>4</th>\n",
       "      <td>5</td>\n",
       "      <td>0</td>\n",
       "      <td>3</td>\n",
       "      <td>Allen, Mr. William Henry</td>\n",
       "      <td>male</td>\n",
       "      <td>35.0</td>\n",
       "      <td>0</td>\n",
       "      <td>0</td>\n",
       "      <td>373450</td>\n",
       "      <td>8.0500</td>\n",
       "      <td>NaN</td>\n",
       "      <td>S</td>\n",
       "    </tr>\n",
       "  </tbody>\n",
       "</table>\n",
       "</div>"
      ],
      "text/plain": [
       "   PassengerId  Survived  Pclass  \\\n",
       "0            1         0       3   \n",
       "1            2         1       1   \n",
       "2            3         1       3   \n",
       "3            4         1       1   \n",
       "4            5         0       3   \n",
       "\n",
       "                                                Name     Sex   Age  SibSp  \\\n",
       "0                            Braund, Mr. Owen Harris    male  22.0      1   \n",
       "1  Cumings, Mrs. John Bradley (Florence Briggs Th...  female  38.0      1   \n",
       "2                             Heikkinen, Miss. Laina  female  26.0      0   \n",
       "3       Futrelle, Mrs. Jacques Heath (Lily May Peel)  female  35.0      1   \n",
       "4                           Allen, Mr. William Henry    male  35.0      0   \n",
       "\n",
       "   Parch            Ticket     Fare Cabin Embarked  \n",
       "0      0         A/5 21171   7.2500   NaN        S  \n",
       "1      0          PC 17599  71.2833   C85        C  \n",
       "2      0  STON/O2. 3101282   7.9250   NaN        S  \n",
       "3      0            113803  53.1000  C123        S  \n",
       "4      0            373450   8.0500   NaN        S  "
      ]
     },
     "execution_count": 17,
     "metadata": {},
     "output_type": "execute_result"
    }
   ],
   "source": [
    "dataset = pd.read_csv('titanic_hw.csv')\n",
    "\n",
    "# Display the first 5 rows of the dataset\n",
    "dataset.head()"
   ]
  },
  {
   "cell_type": "markdown",
   "metadata": {},
   "source": [
    "**Task 1** (1 points) <br/>\n",
    "Answer the following questions:\n",
    "    \n",
    "    * Are there any missing values? In what columns?\n",
    "    * What is the percentage of survived passengers? Are the classes balanced?\n",
    "    * Were there more males or females?\n",
    "    * What what the least popular port of embarkation?\n",
    "    * How many classes (pclass) were there on Tinanic?\n",
    "    * What is the overall average ticket fare? And for every class?\n",
    "Please, write not only the answers but the code, proving it."
   ]
  },
  {
   "cell_type": "code",
   "execution_count": 42,
   "metadata": {},
   "outputs": [
    {
     "name": "stdout",
     "output_type": "stream",
     "text": [
      "missing values PassengerId      0\n",
      "Survived         0\n",
      "Pclass           0\n",
      "Name             0\n",
      "Sex              0\n",
      "Age            177\n",
      "SibSp            0\n",
      "Parch            0\n",
      "Ticket           0\n",
      "Fare             0\n",
      "Cabin          687\n",
      "Embarked         2\n",
      "dtype: int64\n",
      "percentage: 38.38383838383838%\n",
      "The distribution of passengers across the different classes (Pclass) is as follows:\n",
      "3    55.106622\n",
      "1    24.242424\n",
      "2    20.650954\n",
      "Name: Pclass, dtype: float64\n",
      "The classes are not perfectly balanced, with a higher proportion of passengers in 3rd class compared to the 1st and 2nd classes.\n"
     ]
    }
   ],
   "source": [
    "## Are there any missing values? In what columns?\n",
    "## What is the percentage of survived passengers? Are the classes balanced?\n",
    "\n",
    "\n",
    "# Check for missing values in the dataset\n",
    "missing_values = dataset.isnull().sum()\n",
    "\n",
    "# Calculate the percentage of survived passengers\n",
    "total_passengers = dataset.shape[0]\n",
    "survived_passengers = dataset['Survived'].sum()\n",
    "survival_percentage = (survived_passengers / total_passengers) * 100\n",
    "\n",
    "# Check if the classes (Pclass) are balanced\n",
    "class_distribution = dataset['Pclass'].value_counts(normalize=True) * 100\n",
    "\n",
    "print(\"missing values\", missing_values)\n",
    "print(f\"percentage: {survival_percentage}%\")\n",
    "print(\"The distribution of passengers across the different classes (Pclass) is as follows:\")\n",
    "print(class_distribution)\n",
    "print(\"The classes are not perfectly balanced, with a higher proportion of passengers in 3rd class compared to the 1st and 2nd classes.\")"
   ]
  },
  {
   "cell_type": "code",
   "execution_count": 34,
   "metadata": {},
   "outputs": [
    {
     "name": "stdout",
     "output_type": "stream",
     "text": [
      "male      577\n",
      "female    314\n",
      "Name: Sex, dtype: int64\n",
      "There were more males (577) than females (314) in the dataset\n"
     ]
    }
   ],
   "source": [
    "#Were there more males or females?\n",
    "\n",
    "\n",
    "gender_distribution = dataset['Sex'].value_counts()\n",
    "\n",
    "print(gender_distribution)\n",
    "\n",
    "print(\"There were more males (577) than females (314) in the dataset\")"
   ]
  },
  {
   "cell_type": "code",
   "execution_count": 36,
   "metadata": {},
   "outputs": [
    {
     "name": "stdout",
     "output_type": "stream",
     "text": [
      "S    644\n",
      "C    168\n",
      "Q     77\n",
      "Name: Embarked, dtype: int64 Q\n",
      "The least popular port of embarkation was 'Q' (Queenstown), with 77 passengers embarking from there.\n"
     ]
    }
   ],
   "source": [
    "#What what the least popular port of embarkation?\n",
    "\n",
    "# Count the occurrences of each port of embarkation\n",
    "embarkation_distribution = dataset['Embarked'].value_counts()\n",
    "\n",
    "# Find the least popular port of embarkation\n",
    "least_popular_port = embarkation_distribution.idxmin()\n",
    "\n",
    "print(embarkation_distribution, least_popular_port)\n",
    "\n",
    "print(\"The least popular port of embarkation was 'Q' (Queenstown), with 77 passengers embarking from there.\")"
   ]
  },
  {
   "cell_type": "code",
   "execution_count": 41,
   "metadata": {},
   "outputs": [
    {
     "name": "stdout",
     "output_type": "stream",
     "text": [
      "There were 3 classes (Pclass) on the Titanic. 3\n",
      "The overall average ticket fare was 32.204207968574636\n",
      "Average Ticket Fare by Class:  Pclass\n",
      "1    84.154687\n",
      "2    20.662183\n",
      "3    13.675550\n",
      "Name: Fare, dtype: float64\n"
     ]
    }
   ],
   "source": [
    "# How many classes (pclass) were there on Tinanic?\n",
    "# What is the overall average ticket fare? And for every class?\n",
    "\n",
    "\n",
    "\n",
    "# Count the number of unique classes (Pclass) in the dataset\n",
    "num_classes = dataset['Pclass'].nunique()\n",
    "\n",
    "# Calculate the overall average ticket fare\n",
    "overall_avg_fare = dataset['Fare'].mean()\n",
    "\n",
    "# Calculate the average ticket fare for each class\n",
    "avg_fare_by_class = dataset.groupby('Pclass')['Fare'].mean()\n",
    "\n",
    "print(\"There were 3 classes (Pclass) on the Titanic.\", num_classes)\n",
    "print(\"The overall average ticket fare was\", overall_avg_fare)\n",
    "print(\"Average Ticket Fare by Class: \",avg_fare_by_class)"
   ]
  },
  {
   "cell_type": "markdown",
   "metadata": {},
   "source": [
    "**Task 2** (0.5 points) <br/>\n",
    "Visualize age distribution (you may use a histogram, for example). \n",
    "\n",
    "    * What is the minimal and maximum ages of the passengers? Visualize it on the plot\n",
    "    * What is the mean age? And among males and females sepatately? Visualize it on the plot\n",
    "    * Make conclusions about what you see on the plot"
   ]
  },
  {
   "cell_type": "code",
   "execution_count": 43,
   "metadata": {},
   "outputs": [
    {
     "data": {
      "image/png": "[encoded data removed]",
      "text/plain": [
       "<Figure size 1000x600 with 1 Axes>"
      ]
     },
     "metadata": {},
     "output_type": "display_data"
    }
   ],
   "source": [
    "## Your code here\n",
    "# Age statistics\n",
    "min_age = dataset['Age'].min()\n",
    "max_age = dataset['Age'].max()\n",
    "mean_age = dataset['Age'].mean()\n",
    "mean_age_male = dataset[dataset['Sex'] == 'male']['Age'].mean()\n",
    "mean_age_female = dataset[dataset['Sex'] == 'female']['Age'].mean()\n",
    "\n",
    "# Plot the age distribution using a histogram\n",
    "plt.figure(figsize=(10, 6))\n",
    "plt.hist(dataset['Age'].dropna(), bins=30, color='skyblue', edgecolor='black')\n",
    "\n",
    "# Mark the minimal, maximal, and mean ages\n",
    "plt.axvline(min_age, color='green', linestyle='dashed', linewidth=2, label=f'Min Age: {min_age}')\n",
    "plt.axvline(max_age, color='red', linestyle='dashed', linewidth=2, label=f'Max Age: {max_age}')\n",
    "plt.axvline(mean_age, color='blue', linestyle='dashed', linewidth=2, label=f'Mean Age: {mean_age:.2f}')\n",
    "plt.axvline(mean_age_male, color='orange', linestyle='dotted', linewidth=2, label=f'Mean Age Male: {mean_age_male:.2f}')\n",
    "plt.axvline(mean_age_female, color='purple', linestyle='dotted', linewidth=2, label=f'Mean Age Female: {mean_age_female:.2f}')\n",
    "\n",
    "# Add labels and legend\n",
    "plt.title('Age Distribution of Titanic Passengers')\n",
    "plt.xlabel('Age')\n",
    "plt.ylabel('Number of Passengers')\n",
    "plt.legend()\n",
    "\n",
    "plt.show()"
   ]
  },
  {
   "cell_type": "markdown",
   "metadata": {},
   "source": [
    "Minimum and Maximum Ages:\n",
    "\n",
    "The minimum age of passengers is 0.42 (likely infants).\n",
    "The maximum age is 80.0.\n",
    "\n",
    "\n",
    "\n",
    "Mean Age:\n",
    "The overall mean age is approximately 29.7 years.\n",
    "The mean age of males is about 30.73 years.\n",
    "The mean age of females is about 27.92 years.\n",
    "\n",
    "\n",
    "\n",
    "The distribution of age shows a peak around the age of 20-30, indicating that a significant portion of the passengers were young adults.\n",
    "There are relatively fewer older passengers (over 50 years), and a small number of very young children.\n",
    "The mean age for males is slightly higher than that for females, but the difference is not very large.\n",
    "This visualization helps illustrate the age composition of the Titanic passengers, showing that most were young adults, with a smaller proportion of older and very young passengers. ​"
   ]
  },
  {
   "cell_type": "markdown",
   "metadata": {},
   "source": [
    "**Task 3** (1 points) <br/>\n",
    "Find all the titles of the passengers (example, *Capt., Mr.,Mme.*), which are written in the column Name, and answer the following questions:\n",
    "\n",
    "    * How many are there unique titles?\n",
    "    * How many are there passengers with every title?\n",
    "    * What is the most popular man's title? And woman's title?\n",
    "    \n",
    "**Hint** You may select the title from the name as a word which contains a dot."
   ]
  },
  {
   "cell_type": "code",
   "execution_count": 45,
   "metadata": {},
   "outputs": [
    {
     "data": {
      "text/plain": [
       "(17,\n",
       " Mr          517\n",
       " Miss        182\n",
       " Mrs         125\n",
       " Master       40\n",
       " Dr            7\n",
       " Rev           6\n",
       " Mlle          2\n",
       " Major         2\n",
       " Col           2\n",
       " Countess      1\n",
       " Capt          1\n",
       " Ms            1\n",
       " Sir           1\n",
       " Lady          1\n",
       " Mme           1\n",
       " Don           1\n",
       " Jonkheer      1\n",
       " Name: Title, dtype: int64,\n",
       " 'Mr',\n",
       " 'Miss')"
      ]
     },
     "execution_count": 45,
     "metadata": {},
     "output_type": "execute_result"
    }
   ],
   "source": [
    "# Your code here\n",
    "# Extract titles from the 'Name' column\n",
    "dataset['Title'] = dataset['Name'].str.extract(r'([A-Za-z]+)\\.')\n",
    "\n",
    "# Count unique titles\n",
    "unique_titles = dataset['Title'].nunique()\n",
    "\n",
    "# Count passengers with each title\n",
    "title_counts = dataset['Title'].value_counts()\n",
    "\n",
    "# Find the most popular man's and woman's titles\n",
    "most_popular_male_title = dataset[dataset['Sex'] == 'male']['Title'].mode()[0]\n",
    "most_popular_female_title = dataset[dataset['Sex'] == 'female']['Title'].mode()[0]\n",
    "\n",
    "unique_titles, title_counts, most_popular_male_title, most_popular_female_title"
   ]
  },
  {
   "cell_type": "markdown",
   "metadata": {},
   "source": [
    "Most Popular Man's Title: The most popular title among men is Mr.\n",
    "\n",
    "Most Popular Woman's Title: The most popular title among women is Miss."
   ]
  },
  {
   "cell_type": "markdown",
   "metadata": {},
   "source": [
    "**Task 4** (0.5 points) <br/>\n",
    "Is there correlation between *pclass* and *ticket price*? Calculate mean price for each port and visualize prize distribution for each port. Make conclusions about what you see on the plot\n",
    "\n",
    "Hint: you could make one or several plot types i.e.  box, violine, pair, histogram (see additional notebooks for Seminar 1 \"Visualization with Seaborn\"). main point here is to **choose** plots wisely and **make meaningful conclusions**\n",
    "\n"
   ]
  },
  {
   "cell_type": "code",
   "execution_count": 49,
   "metadata": {},
   "outputs": [
    {
     "data": {
      "image/png": "[encoded data removed]",
      "text/plain": [
       "<Figure size 1000x600 with 1 Axes>"
      ]
     },
     "metadata": {},
     "output_type": "display_data"
    },
    {
     "data": {
      "text/plain": [
       "Pclass\n",
       "1    84.154687\n",
       "2    20.662183\n",
       "3    13.675550\n",
       "Name: Fare, dtype: float64"
      ]
     },
     "execution_count": 49,
     "metadata": {},
     "output_type": "execute_result"
    }
   ],
   "source": [
    "mean_fare_by_pclass = dataset.groupby('Pclass')['Fare'].mean()\n",
    "\n",
    "# Create a violin plot to visualize the distribution of ticket prices by Pclass\n",
    "plt.figure(figsize=(10, 6))\n",
    "sns.violinplot(x='Pclass', y='Fare', data=dataset, palette='coolwarm')\n",
    "plt.title('Fare Distribution by Passenger Class (Pclass)')\n",
    "plt.xlabel('Passenger Class (Pclass)')\n",
    "plt.ylabel('Ticket Fare')\n",
    "plt.show()\n",
    "\n",
    "# Output the mean ticket price for each class\n",
    "mean_fare_by_pclass"
   ]
  },
  {
   "cell_type": "markdown",
   "metadata": {},
   "source": [
    "I chose the violin plot because it effectively combines the features of a boxplot and a density plot. It not only shows the distribution of ticket prices for each class (like a boxplot would), but also the density and range of fares. This allows for a clear visualization of the differences in fare distributions across passenger classes, making it easy to see both the median fares and the spread (variability) within each class."
   ]
  },
  {
   "cell_type": "markdown",
   "metadata": {},
   "source": [
    "Mean Ticket Price for Each Class:\n",
    "\n",
    "1st Class: 84.15\n",
    "2nd Class: 20.66\n",
    "3rd Class: 13.68\n",
    "Plot Insights:\n",
    "\n",
    "The violin plot shows a clear trend: passengers in 1st class paid significantly higher fares than those in 2nd and 3rd classes.\n",
    "\n",
    "The distribution of fares for 1st class is wider, indicating a larger variation in prices (due to different cabin types and luxury accommodations).\n",
    "\n",
    "The 2nd and 3rd classes have more compressed fare ranges, with the 3rd class having the lowest and narrowest fare distribution.\n",
    "\n",
    "Conclusion:\n",
    "There is a strong correlation between passenger class (Pclass) and ticket price. As expected, passengers in higher classes paid more, with 1st class having both the highest average and the widest distribution of fares, while 3rd class fares were significantly lower and more uniform."
   ]
  },
  {
   "cell_type": "markdown",
   "metadata": {},
   "source": [
    "**Task 5** (0.5 points) <br/>\n",
    "The same question as in task 4 about correlation between *embarked* and *ticket priсe*."
   ]
  },
  {
   "cell_type": "code",
   "execution_count": 47,
   "metadata": {},
   "outputs": [
    {
     "data": {
      "image/png": "[encoded data removed]",
      "text/plain": [
       "<Figure size 1000x600 with 1 Axes>"
      ]
     },
     "metadata": {},
     "output_type": "display_data"
    },
    {
     "data": {
      "text/plain": [
       "Embarked\n",
       "C    59.954144\n",
       "Q    13.276030\n",
       "S    27.079812\n",
       "Name: Fare, dtype: float64"
      ]
     },
     "execution_count": 47,
     "metadata": {},
     "output_type": "execute_result"
    }
   ],
   "source": [
    "## You code here\n",
    "# Calculate the mean fare for each port of embarkation\n",
    "mean_fare_by_port = dataset.groupby('Embarked')['Fare'].mean()\n",
    "\n",
    "# Create a violin plot to visualize the distribution of fare by port of embarkation\n",
    "plt.figure(figsize=(10, 6))\n",
    "sns.violinplot(x='Embarked', y='Fare', data=dataset, palette='muted')\n",
    "plt.title('Fare Distribution by Port of Embarkation')\n",
    "plt.xlabel('Port of Embarkation')\n",
    "plt.ylabel('Ticket Fare')\n",
    "plt.show()\n",
    "\n",
    "# Display the mean ticket prices by port\n",
    "mean_fare_by_port"
   ]
  },
  {
   "cell_type": "markdown",
   "metadata": {},
   "source": [
    "Since Embarked is a categorical variable and Fare is a continuous variable, we cannot directly compute a correlation in the typical numerical sense. However, we can explore the relationship between the embarkation port and ticket prices by examining the distribution of fares across different ports.\n",
    "\n",
    "Here are a few ways to investigate this relationship:\n",
    "\n",
    "Mean Fare by Port: As we calculated earlier, passengers embarking from different ports (Cherbourg, Queenstown, Southampton) paid different average fares.\n",
    "\n",
    "Violin or Box Plots: These visualizations showed how ticket prices varied depending on the embarkation port, with passengers from Cherbourg paying significantly higher fares on average than those from Southampton or Queenstown.\n",
    "\n",
    "Summary:\n",
    "While there's no direct numerical correlation between Embarked and Fare, there is a clear association: passengers from Cherbourg paid higher fares, while those from Queenstown paid the lowest. The port of embarkation is likely tied to socioeconomic status and cabin class, affecting fare pricing trends."
   ]
  },
  {
   "cell_type": "markdown",
   "metadata": {},
   "source": [
    "**Task 6** (0.5 points) <br/>\n",
    "Visualize age distribution for survived and not survived passengers separately and calculate the mean age for each class. Are they different? Provide the same visualization for males and females separately. Make conclusions about what you see on the plots"
   ]
  },
  {
   "cell_type": "code",
   "execution_count": 54,
   "metadata": {},
   "outputs": [
    {
     "data": {
      "image/png": "[encoded data removed]",
      "text/plain": [
       "<Figure size 1400x600 with 2 Axes>"
      ]
     },
     "metadata": {},
     "output_type": "display_data"
    },
    {
     "data": {
      "text/plain": [
       "(Survived\n",
       " 0    30.626179\n",
       " 1    28.343690\n",
       " Name: Age, dtype: float64,\n",
       " Sex\n",
       " female    27.915709\n",
       " male      30.726645\n",
       " Name: Age, dtype: float64,\n",
       " Pclass\n",
       " 1    38.233441\n",
       " 2    29.877630\n",
       " 3    25.140620\n",
       " Name: Age, dtype: float64)"
      ]
     },
     "execution_count": 54,
     "metadata": {},
     "output_type": "execute_result"
    }
   ],
   "source": [
    "## You code here\n",
    "# Calculate mean age for survived and not survived passengers\n",
    "mean_age_survived = dataset.groupby('Survived')['Age'].mean()\n",
    "\n",
    "# Calculate mean age for males and females separately\n",
    "mean_age_sex = dataset.groupby('Sex')['Age'].mean()\n",
    "\n",
    "# Create age distribution visualizations for survived and not survived passengers\n",
    "plt.figure(figsize=(14, 6))\n",
    "\n",
    "# Subplot for survived vs not survived age distribution\n",
    "plt.subplot(1, 2, 1)\n",
    "sns.histplot(data=dataset, x='Age', hue='Survived', multiple='stack', bins=30, palette='Set2')\n",
    "plt.title('Age Distribution: Survived vs Not Survived')\n",
    "plt.xlabel('Age')\n",
    "plt.ylabel('Number of Passengers')\n",
    "\n",
    "# Subplot for males vs females age distribution\n",
    "plt.subplot(1, 2, 2)\n",
    "sns.histplot(data=dataset, x='Age', hue='Sex', multiple='stack', bins=30, palette='Set1')\n",
    "plt.title('Age Distribution: Males vs Females')\n",
    "plt.xlabel('Age')\n",
    "plt.ylabel('Number of Passengers')\n",
    "\n",
    "plt.tight_layout()\n",
    "plt.show()\n",
    "\n",
    "# Calculate mean age for each passenger class\n",
    "mean_age_by_class = dataset.groupby('Pclass')['Age'].mean()\n",
    "\n",
    "# Display results\n",
    "mean_age_survived, mean_age_sex, mean_age_by_class"
   ]
  },
  {
   "cell_type": "markdown",
   "metadata": {},
   "source": [
    "Mean Age for Survived and Not Survived Passengers:\n",
    "\n",
    "Survived: Average age is 28.34 years.\n",
    "Not Survived: Average age is 30.63 years.\n",
    "The mean age of passengers who did not survive is slightly higher than those who survived.\n",
    "\n",
    "Mean Age for Males and Females:\n",
    "\n",
    "Females: Average age is 27.92 years.\n",
    "Males: Average age is 30.73 years.\n",
    "Males have a slightly higher average age compared to females.\n",
    "\n",
    "Mean Age for Each Passenger Class:\n",
    "\n",
    "1st Class: Average age is 38.23 years.\n",
    "2nd Class: Average age is 29.88 years.\n",
    "3rd Class: Average age is 25.14 years.\n",
    "Passengers in 1st class tend to be older, with the average age decreasing in lower classes.\n",
    "\n",
    "Visualization Insights:\n",
    "The age distribution of survived vs. not survived passengers shows a concentration of younger passengers among survivors.\n",
    "The age distribution for males and females indicates that more males are spread across different age ranges, while females show a stronger peak around younger ages.\n",
    "Conclusion:\n",
    "Older passengers were more likely to be in higher classes, particularly 1st class.\n",
    "Younger passengers, especially in the 3rd class, had a higher survival rate.\n",
    "Age and gender played a role in survival rates, with younger and female passengers having better survival outcomes overall. "
   ]
  },
  {
   "cell_type": "code",
   "execution_count": null,
   "metadata": {},
   "outputs": [],
   "source": []
  }
 ],
 "metadata": {
  "kernelspec": {
   "display_name": "Python 3 (ipykernel)",
   "language": "python",
   "name": "python3"
  },
  "language_info": {
   "codemirror_mode": {
    "name": "ipython",
    "version": 3
   },
   "file_extension": ".py",
   "mimetype": "text/x-python",
   "name": "python",
   "nbconvert_exporter": "python",
   "pygments_lexer": "ipython3",
   "version": "3.9.1"
  }
 },
 "nbformat": 4,
 "nbformat_minor": 4
}
